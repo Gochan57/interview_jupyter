{
 "cells": [
  {
   "cell_type": "code",
   "execution_count": 62,
   "metadata": {},
   "outputs": [
    {
     "name": "stderr",
     "output_type": "stream",
     "text": [
      "......\n",
      "----------------------------------------------------------------------\n",
      "Ran 6 tests in 0.005s\n",
      "\n",
      "OK\n"
     ]
    }
   ],
   "source": [
    "import math\n",
    "import unittest\n",
    "\n",
    "def convert(v):\n",
    "    value_type = type(v)\n",
    "    if value_type is str:\n",
    "        try:\n",
    "            v = float(v)\n",
    "        except ValueError:\n",
    "            raise TypeError('String %s couldn\\'t be converted to number' % v)\n",
    "        value_type = type(v)\n",
    "    if value_type is float or type(v) is int:\n",
    "        return \"%.2f\" % round(math.floor(v*100)/100, 2)\n",
    "    if value_type is list:\n",
    "        return convert_list(v)\n",
    "    if value_type is tuple:\n",
    "        return convert_tuple(v)\n",
    "    if value_type is dict:\n",
    "        return convert_dict(v)\n",
    "    raise TypeError('Value %s has unknown type %s' % (v, value_type))\n",
    "\n",
    "\n",
    "def convert_list(arr):\n",
    "    return [convert(v) for v in arr]\n",
    "\n",
    "\n",
    "def convert_tuple(arr):\n",
    "    return tuple(convert(v) for v in arr)\n",
    "\n",
    "\n",
    "def convert_dict(o):\n",
    "    for k, v in o.items():\n",
    "        o[k] = convert(v)\n",
    "    return o\n",
    "\n",
    "\n",
    "class TestConverter(unittest.TestCase):\n",
    "    def test1(self):\n",
    "        obj = {'a': [1.1, 2], 'c': 3.12944}\n",
    "        convert_obj = {'a': ['1.10', '2.00'], 'c': '3.12'}\n",
    "        self.assertEqual(convert(obj), convert_obj)\n",
    "\n",
    "    def test2(self):\n",
    "        obj = {'a': [-1.19, 1234567898765421, '5.0'], 'b': {'x': 3.12944, 'y': {'p': -10}}, 'c': ('-2.3', 1.001, 0.999)}\n",
    "        convert_obj = {'a': ['-1.19', '1234567898765421.00', '5.00'], 'b': {'x': '3.12', 'y': {'p': '-10.00'}}, 'c': ('-2.30', '1.00', '0.99')}\n",
    "        self.assertEqual(convert(obj), convert_obj)\n",
    "\n",
    "    def test3(self):\n",
    "        obj = {'a': 'x'}\n",
    "        with self.assertRaisesRegex(TypeError, 'String x couldn\\'t be converted to number'):\n",
    "            convert(obj)\n",
    "\n",
    "if __name__ == '__main__':\n",
    "    unittest.main(argv=['first-arg-is-ignored'], exit=False)"
   ]
  },
  {
   "cell_type": "code",
   "execution_count": null,
   "metadata": {},
   "outputs": [],
   "source": []
  }
 ],
 "metadata": {
  "kernelspec": {
   "display_name": "Python 3",
   "language": "python",
   "name": "python3"
  },
  "language_info": {
   "codemirror_mode": {
    "name": "ipython",
    "version": 3
   },
   "file_extension": ".py",
   "mimetype": "text/x-python",
   "name": "python",
   "nbconvert_exporter": "python",
   "pygments_lexer": "ipython3",
   "version": "3.6.5"
  }
 },
 "nbformat": 4,
 "nbformat_minor": 2
}
